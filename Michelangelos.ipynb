{
 "cells": [
  {
   "cell_type": "markdown",
   "id": "186039a5",
   "metadata": {},
   "source": [
    "# Michelangelo's\n",
    "\n",
    "Su amigo Chocolove McDonell le comenta que inauguró un nuevo restaurante llamado _Michelangelo's_, el cual se especializa en comida italiana. Como dueño del negocio, Chocolove quiere evaluar la rentabilidad de su negocio, pero no es muy bueno sacando cuentas, razón por la que acude a usted por ayuda. \n",
    "\n",
    "El menú del restaurante es el siguiente:\n",
    "> - Carpaccio... `$ 31.500`\n",
    "> - Polenta... `$ 31.500`\n",
    "> - Panna Cotta... `$ 32.000` \n",
    "> - Macchiato... `$ 12.500` \n",
    "> - Latte... `$ 18.000`\n",
    "> - Cappuccino... `$ 19.500` \n",
    "> - Espresso... `$ 21.500` \n",
    "> - Lasagna... `$ 29.000` \n",
    "> - Risotto... `$ 35.500` \n",
    "> - Gnocchi... `$ 56.500` \n",
    "> - Ravioli... `$ 63.500` \n",
    "\n",
    "Chocolove lleva anotaciones de las ventas realizadas durante la primera semana en un pequeño cuaderno, indicando la fecha y los platos servidos. Le ha compartido la siguientes imágenes:\n",
    "\n",
    "<img src=\"ventas_p1.jpg\" style=\"max-height:400px\">\n",
    "<img src=\"ventas_p2.jpg\" style=\"max-height:400px\">\n",
    "\n",
    "**Tip**: Descarga las imágenes de la carpeta del repositorio para observar el texto con mayor facilidad."
   ]
  },
  {
   "cell_type": "markdown",
   "id": "29ad8ea4",
   "metadata": {},
   "source": [
    "# Menú"
   ]
  },
  {
   "cell_type": "markdown",
   "id": "2797b589",
   "metadata": {},
   "source": [
    "Crea una lista llamada `menu` que contenga los elementos del menú de Michelangelo's."
   ]
  },
  {
   "cell_type": "code",
   "execution_count": 23,
   "id": "874e6128",
   "metadata": {},
   "outputs": [
    {
     "name": "stdout",
     "output_type": "stream",
     "text": [
      "['Carpaccio', 'Polenta', 'Panna Cotta', 'Macchiatto', 'Latte', 'Cappucchino', 'Espresso', 'Lasagna', 'Risoto', 'Gnocchi', 'Ravioli']\n"
     ]
    }
   ],
   "source": [
    "# Menu del restaurante\n",
    "menu = ['Carpaccio', 'Polenta', 'Panna Cotta', 'Macchiatto', 'Latte', 'Cappucchino', 'Espresso', 'Lasagna', 'Risoto', 'Gnocchi', 'Ravioli']\n",
    "print(menu)"
   ]
  },
  {
   "cell_type": "markdown",
   "id": "9c242dcf",
   "metadata": {},
   "source": [
    "Crea una lista llamada `prices` que contenga los precios de los elementos del menú de Michelangelo's. El orden de los precios debe corresponder con el orden de los platos en la lista `menu`."
   ]
  },
  {
   "cell_type": "code",
   "execution_count": 20,
   "id": "2c648e26",
   "metadata": {},
   "outputs": [
    {
     "name": "stdout",
     "output_type": "stream",
     "text": [
      "['31500', '31500', '32000', '12500', '18000', '19500', '21500', '29000', '35500', '36500', '63500']\n"
     ]
    }
   ],
   "source": [
    "# precio de los comidas\n",
    "price = ['31500','31500','32000','12500','18000','19500','21500','29000','35500','36500','63500']\n",
    "print(price)"
   ]
  },
  {
   "cell_type": "markdown",
   "id": "db730bc8",
   "metadata": {},
   "source": [
    "Crea una variable llamada `avg_prc` que almacene el valor del precio promedio de los productos vendidos en Michelangelo's.\n",
    "\n",
    "**Tip**: utiliza la lista `prices` y ciclos para calcular este valor. "
   ]
  },
  {
   "cell_type": "code",
   "execution_count": 39,
   "id": "8d1e899a",
   "metadata": {},
   "outputs": [
    {
     "name": "stdout",
     "output_type": "stream",
     "text": [
      "el promedio del valor de los productos vendidos es: $351000\n"
     ]
    }
   ],
   "source": [
    "#productos y precios\n",
    "carpaccio = 31500\n",
    "polenta = 31500\n",
    "panna_cotta = 32000\n",
    "macchiato = 12500\n",
    "latte = 18000\n",
    "cappucchino = 19500\n",
    "espresso = 21500\n",
    "lasagna = 29000\n",
    "risotto = 35500\n",
    "gnocchi = 56500\n",
    "ravioli = 63500\n",
    "avg_prc = (carpaccio+ polenta + panna_cotta + macchiatto + latte + cappucchino + espresso + lasagna + risoto + gnocchi + ravioli)\n",
    "print ('el promedio del valor de los productos vendidos es: ' + '$' + str (avg_prc) )"
   ]
  },
  {
   "cell_type": "markdown",
   "id": "08393c0c",
   "metadata": {},
   "source": [
    "## Ventas"
   ]
  },
  {
   "cell_type": "markdown",
   "id": "97c049c0",
   "metadata": {},
   "source": [
    "Crea una lista para cada día de la semana que contenga los productos vendidos por Michelangelo's. Nombra las variables de la siguiente forma:\n",
    "- `monday`: lista con las ventas del lunes, 16 de enero de 2023\n",
    "- `tuesday`: lista con las ventas del martes, 17 de enero de 2023\n",
    "- `wednesday`: lista con las ventas del miércoles, 18 de enero de 2023\n",
    "- `thursday`: lista con las ventas del jueves, 19 de enero de 2023\n",
    "- `friday`: lista con las ventas del viernes, 20 de enero de 2023\n",
    "- `saturday`: lista con las ventas del sábado, 21 de enero de 2023\n",
    "- `sunday`: lista con las ventas del domingo, 22 de enero de 2023"
   ]
  },
  {
   "cell_type": "code",
   "execution_count": 26,
   "id": "f2b38aa6",
   "metadata": {},
   "outputs": [],
   "source": [
    "#comidas vendidas durante la primera semana\n",
    "monday = ['lasagna', 'polenta','gnocchi','polenta','ravioli','gnocchi','cappucchino','risotto']\n",
    "tuesday = ['risotto','ravioli','risotto','lasagna','carpaccio','espresso','panna_cotta','gnocchi','gnocchi']\n",
    "wednesday = ['cappucchino','lasagna','cappucchino','carpaccio,','ravioli','polenta','polenta','carpaccio','espresso', 'lasagna','risotto','carpaccio']\n",
    "thursday = ['latte','risotto','risotto','carpaccio','gnocchi','polenta','espresso','latte','ravioli']\n",
    "friday = ['espresso','gnocchi','gnoccchi','cappucchino','gnocchi','panna_cotta']\n",
    "saturday = ['risotto','carpaccio','macchiato','cappucchino','risotto','polenta','panna_cotta','ravioli','macchiatto','panna_cotta','latte','latte','gnocchi']\n",
    "sunday = ['polenta','polenta','espresso','pavioli','risotto','macchiatto']"
   ]
  },
  {
   "cell_type": "markdown",
   "id": "0727bc22",
   "metadata": {},
   "source": [
    "Calcula el valor total de las ventas para cada día de la semana. Almacena el valor de las ventas en las siguientes variables:\n",
    "- `total_monday`: variable con el valor total de las ventas del día lunes\n",
    "- `total_tuesday`: variable con el valor total de las ventas del día lunes\n",
    "- `total_wednesday`: variable con el valor total de las ventas del día lunes\n",
    "- `total_thursday`: variable con el valor total de las ventas del día lunes\n",
    "- `total_friday`: variable con el valor total de las ventas del día lunes\n",
    "- `total_saturday`: variable con el valor total de las ventas del día lunes\n",
    "- `total_sunday`: variable con el valor total de las ventas del día lunes\n",
    "\n",
    "**Tip**: utiliza ciclos y las listas de los días de la semana. También puedes usar el método `.index()` para obtener el índice de un elemento en una lista."
   ]
  },
  {
   "cell_type": "code",
   "execution_count": 49,
   "id": "0d6e0781",
   "metadata": {},
   "outputs": [
    {
     "name": "stdout",
     "output_type": "stream",
     "text": [
      "el dia lunes se vendió $[323500]\n",
      "el dia martes se vendió $[361500]\n",
      "el dia miercoles se vendió $[375000]\n",
      "el dia jueves se vendió $[311500]\n",
      "el dia viernes se vendió $[242500]\n",
      "el dia sabado se vendió $[398500]\n",
      "el dia domingo se vendió $[196000]\n"
     ]
    }
   ],
   "source": [
    "#ventas durante la primera semana\n",
    "total_monday = [lasagna + polenta + gnocchi + polenta + ravioli + gnocchi + cappucchino + risotto]\n",
    "total_tuesday = [risotto + ravioli + risotto + lasagna + carpaccio + espresso + panna_cotta + gnocchi + gnocchi]\n",
    "total_wednesday = [cappucchino + lasagna + cappucchino + carpaccio + ravioli + polenta + polenta + carpaccio + espresso + lasagna + risotto + carpaccio]\n",
    "total_thursday = [latte + risotto + risotto + carpaccio + gnocchi + polenta + espresso + latte + ravioli]\n",
    "total_friday = [espresso + gnocchi + gnocchi + cappucchino + gnocchi + panna_cotta]\n",
    "total_saturday = [risotto + carpaccio + macchiato + cappucchino + risotto + polenta + panna_cotta + ravioli + macchiato + panna_cotta + latte + latte + gnocchi]\n",
    "total_sunday = [polenta + polenta + espresso + ravioli + risotto + macchiato]\n",
    "print ('el dia lunes se vendió ' + '$' + str (total_monday) )\n",
    "print ('el dia martes se vendió ' + '$' + str (total_tuesday))\n",
    "print ('el dia miercoles se vendió ' + '$' + str (total_wednesday))\n",
    "print ('el dia jueves se vendió ' + '$' + str (total_thursday))\n",
    "print ('el dia viernes se vendió ' + '$' + str (total_friday))\n",
    "print ('el dia sabado se vendió ' + '$' + str (total_saturday))\n",
    "print ('el dia domingo se vendió ' + '$' + str (total_sunday))"
   ]
  },
  {
   "cell_type": "markdown",
   "id": "3cc13c70",
   "metadata": {},
   "source": [
    "¿Cuál es valor total de las ventas de Michelangelo's durante su primera semana?"
   ]
  },
  {
   "cell_type": "code",
   "execution_count": 48,
   "id": "c8d1500f",
   "metadata": {},
   "outputs": [
    {
     "name": "stdout",
     "output_type": "stream",
     "text": [
      "Durante la primera semana se vendió $[[323500, 361500, 375000, 311500, 242500, 398500, 196000]]\n"
     ]
    }
   ],
   "source": [
    "total_semana = [total_monday + total_tuesday + total_wednesday + total_thursday + total_friday + total_saturday + total_sunday]\n",
    "print ('Durante la primera semana se vendió ' + '$' + str (total_semana))"
   ]
  },
  {
   "cell_type": "code",
   "execution_count": null,
   "id": "81399b92",
   "metadata": {},
   "outputs": [],
   "source": []
  }
 ],
 "metadata": {
  "kernelspec": {
   "display_name": "Python 3 (ipykernel)",
   "language": "python",
   "name": "python3"
  },
  "language_info": {
   "codemirror_mode": {
    "name": "ipython",
    "version": 3
   },
   "file_extension": ".py",
   "mimetype": "text/x-python",
   "name": "python",
   "nbconvert_exporter": "python",
   "pygments_lexer": "ipython3",
   "version": "3.9.13"
  }
 },
 "nbformat": 4,
 "nbformat_minor": 5
}
